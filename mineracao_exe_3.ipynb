{
  "nbformat": 4,
  "nbformat_minor": 0,
  "metadata": {
    "colab": {
      "name": "mineracao_exe_3.ipynb",
      "provenance": [],
      "collapsed_sections": [],
      "toc_visible": true
    },
    "kernelspec": {
      "name": "python3",
      "display_name": "Python 3"
    }
  },
  "cells": [
    {
      "cell_type": "markdown",
      "metadata": {
        "id": "2tEXR672fuqK"
      },
      "source": [
        "# 3.3 DESAFIO COMPUTACIONAL \r\n"
      ]
    },
    {
      "cell_type": "markdown",
      "metadata": {
        "id": "H7eSlvgLf-Uo"
      },
      "source": [
        "O Capítulo 3 traz o exemplo do processo de análise descritiva de dados aplicado aos atributos Mês, Dia, DMC e DC da base Fires. Para este desafio, realize o mesmo processo para os atributos X, Y, Temp e UR da base Fires. Realize as etapas do processo de forma similar ao exemplo exposto no livro.\r\n",
        "\r\n"
      ]
    },
    {
      "cell_type": "markdown",
      "metadata": {
        "id": "Y10qL6WkbxsR"
      },
      "source": [
        "#**Importação das dependências**"
      ]
    },
    {
      "cell_type": "code",
      "metadata": {
        "id": "bph1yX_1dMLK"
      },
      "source": [
        "import pandas as pd\n",
        "import matplotlib.pyplot as plt\n",
        "%matplotlib inline"
      ],
      "execution_count": 1,
      "outputs": []
    },
    {
      "cell_type": "markdown",
      "metadata": {
        "id": "YkO9YKh8cSwo"
      },
      "source": [
        "#**Importação da base**"
      ]
    },
    {
      "cell_type": "code",
      "metadata": {
        "id": "Yxt7nhhHdK74"
      },
      "source": [
        "df = pd.read_csv('https://archive.ics.uci.edu/ml/machine-learning-databases/forest-fires/forestfires.csv', sep=',')"
      ],
      "execution_count": 2,
      "outputs": []
    },
    {
      "cell_type": "markdown",
      "metadata": {
        "id": "phPH4X4kb-xB"
      },
      "source": [
        "# **Análise exploratória**"
      ]
    },
    {
      "cell_type": "code",
      "metadata": {
        "colab": {
          "base_uri": "https://localhost:8080/"
        },
        "id": "aUB24VwzcLa4",
        "outputId": "0d858984-11da-4078-9e83-44c9a0f42607"
      },
      "source": [
        "df.info()"
      ],
      "execution_count": 3,
      "outputs": [
        {
          "output_type": "stream",
          "text": [
            "<class 'pandas.core.frame.DataFrame'>\n",
            "RangeIndex: 517 entries, 0 to 516\n",
            "Data columns (total 13 columns):\n",
            " #   Column  Non-Null Count  Dtype  \n",
            "---  ------  --------------  -----  \n",
            " 0   X       517 non-null    int64  \n",
            " 1   Y       517 non-null    int64  \n",
            " 2   month   517 non-null    object \n",
            " 3   day     517 non-null    object \n",
            " 4   FFMC    517 non-null    float64\n",
            " 5   DMC     517 non-null    float64\n",
            " 6   DC      517 non-null    float64\n",
            " 7   ISI     517 non-null    float64\n",
            " 8   temp    517 non-null    float64\n",
            " 9   RH      517 non-null    int64  \n",
            " 10  wind    517 non-null    float64\n",
            " 11  rain    517 non-null    float64\n",
            " 12  area    517 non-null    float64\n",
            "dtypes: float64(8), int64(3), object(2)\n",
            "memory usage: 52.6+ KB\n"
          ],
          "name": "stdout"
        }
      ]
    },
    {
      "cell_type": "code",
      "metadata": {
        "colab": {
          "base_uri": "https://localhost:8080/",
          "height": 195
        },
        "id": "vWIAtTPU0kfp",
        "outputId": "2b2680de-3435-49ee-b47b-9d639fc16719"
      },
      "source": [
        "df.head()"
      ],
      "execution_count": 4,
      "outputs": [
        {
          "output_type": "execute_result",
          "data": {
            "text/html": [
              "<div>\n",
              "<style scoped>\n",
              "    .dataframe tbody tr th:only-of-type {\n",
              "        vertical-align: middle;\n",
              "    }\n",
              "\n",
              "    .dataframe tbody tr th {\n",
              "        vertical-align: top;\n",
              "    }\n",
              "\n",
              "    .dataframe thead th {\n",
              "        text-align: right;\n",
              "    }\n",
              "</style>\n",
              "<table border=\"1\" class=\"dataframe\">\n",
              "  <thead>\n",
              "    <tr style=\"text-align: right;\">\n",
              "      <th></th>\n",
              "      <th>X</th>\n",
              "      <th>Y</th>\n",
              "      <th>month</th>\n",
              "      <th>day</th>\n",
              "      <th>FFMC</th>\n",
              "      <th>DMC</th>\n",
              "      <th>DC</th>\n",
              "      <th>ISI</th>\n",
              "      <th>temp</th>\n",
              "      <th>RH</th>\n",
              "      <th>wind</th>\n",
              "      <th>rain</th>\n",
              "      <th>area</th>\n",
              "    </tr>\n",
              "  </thead>\n",
              "  <tbody>\n",
              "    <tr>\n",
              "      <th>0</th>\n",
              "      <td>7</td>\n",
              "      <td>5</td>\n",
              "      <td>mar</td>\n",
              "      <td>fri</td>\n",
              "      <td>86.2</td>\n",
              "      <td>26.2</td>\n",
              "      <td>94.3</td>\n",
              "      <td>5.1</td>\n",
              "      <td>8.2</td>\n",
              "      <td>51</td>\n",
              "      <td>6.7</td>\n",
              "      <td>0.0</td>\n",
              "      <td>0.0</td>\n",
              "    </tr>\n",
              "    <tr>\n",
              "      <th>1</th>\n",
              "      <td>7</td>\n",
              "      <td>4</td>\n",
              "      <td>oct</td>\n",
              "      <td>tue</td>\n",
              "      <td>90.6</td>\n",
              "      <td>35.4</td>\n",
              "      <td>669.1</td>\n",
              "      <td>6.7</td>\n",
              "      <td>18.0</td>\n",
              "      <td>33</td>\n",
              "      <td>0.9</td>\n",
              "      <td>0.0</td>\n",
              "      <td>0.0</td>\n",
              "    </tr>\n",
              "    <tr>\n",
              "      <th>2</th>\n",
              "      <td>7</td>\n",
              "      <td>4</td>\n",
              "      <td>oct</td>\n",
              "      <td>sat</td>\n",
              "      <td>90.6</td>\n",
              "      <td>43.7</td>\n",
              "      <td>686.9</td>\n",
              "      <td>6.7</td>\n",
              "      <td>14.6</td>\n",
              "      <td>33</td>\n",
              "      <td>1.3</td>\n",
              "      <td>0.0</td>\n",
              "      <td>0.0</td>\n",
              "    </tr>\n",
              "    <tr>\n",
              "      <th>3</th>\n",
              "      <td>8</td>\n",
              "      <td>6</td>\n",
              "      <td>mar</td>\n",
              "      <td>fri</td>\n",
              "      <td>91.7</td>\n",
              "      <td>33.3</td>\n",
              "      <td>77.5</td>\n",
              "      <td>9.0</td>\n",
              "      <td>8.3</td>\n",
              "      <td>97</td>\n",
              "      <td>4.0</td>\n",
              "      <td>0.2</td>\n",
              "      <td>0.0</td>\n",
              "    </tr>\n",
              "    <tr>\n",
              "      <th>4</th>\n",
              "      <td>8</td>\n",
              "      <td>6</td>\n",
              "      <td>mar</td>\n",
              "      <td>sun</td>\n",
              "      <td>89.3</td>\n",
              "      <td>51.3</td>\n",
              "      <td>102.2</td>\n",
              "      <td>9.6</td>\n",
              "      <td>11.4</td>\n",
              "      <td>99</td>\n",
              "      <td>1.8</td>\n",
              "      <td>0.0</td>\n",
              "      <td>0.0</td>\n",
              "    </tr>\n",
              "  </tbody>\n",
              "</table>\n",
              "</div>"
            ],
            "text/plain": [
              "   X  Y month  day  FFMC   DMC     DC  ISI  temp  RH  wind  rain  area\n",
              "0  7  5   mar  fri  86.2  26.2   94.3  5.1   8.2  51   6.7   0.0   0.0\n",
              "1  7  4   oct  tue  90.6  35.4  669.1  6.7  18.0  33   0.9   0.0   0.0\n",
              "2  7  4   oct  sat  90.6  43.7  686.9  6.7  14.6  33   1.3   0.0   0.0\n",
              "3  8  6   mar  fri  91.7  33.3   77.5  9.0   8.3  97   4.0   0.2   0.0\n",
              "4  8  6   mar  sun  89.3  51.3  102.2  9.6  11.4  99   1.8   0.0   0.0"
            ]
          },
          "metadata": {
            "tags": []
          },
          "execution_count": 4
        }
      ]
    },
    {
      "cell_type": "code",
      "metadata": {
        "colab": {
          "base_uri": "https://localhost:8080/",
          "height": 284
        },
        "id": "cxDzpTvXcJwK",
        "outputId": "04e3a751-cfaa-47fc-84fe-cb8bbeac8816"
      },
      "source": [
        "df.describe()"
      ],
      "execution_count": 5,
      "outputs": [
        {
          "output_type": "execute_result",
          "data": {
            "text/html": [
              "<div>\n",
              "<style scoped>\n",
              "    .dataframe tbody tr th:only-of-type {\n",
              "        vertical-align: middle;\n",
              "    }\n",
              "\n",
              "    .dataframe tbody tr th {\n",
              "        vertical-align: top;\n",
              "    }\n",
              "\n",
              "    .dataframe thead th {\n",
              "        text-align: right;\n",
              "    }\n",
              "</style>\n",
              "<table border=\"1\" class=\"dataframe\">\n",
              "  <thead>\n",
              "    <tr style=\"text-align: right;\">\n",
              "      <th></th>\n",
              "      <th>X</th>\n",
              "      <th>Y</th>\n",
              "      <th>FFMC</th>\n",
              "      <th>DMC</th>\n",
              "      <th>DC</th>\n",
              "      <th>ISI</th>\n",
              "      <th>temp</th>\n",
              "      <th>RH</th>\n",
              "      <th>wind</th>\n",
              "      <th>rain</th>\n",
              "      <th>area</th>\n",
              "    </tr>\n",
              "  </thead>\n",
              "  <tbody>\n",
              "    <tr>\n",
              "      <th>count</th>\n",
              "      <td>517.000000</td>\n",
              "      <td>517.000000</td>\n",
              "      <td>517.000000</td>\n",
              "      <td>517.000000</td>\n",
              "      <td>517.000000</td>\n",
              "      <td>517.000000</td>\n",
              "      <td>517.000000</td>\n",
              "      <td>517.000000</td>\n",
              "      <td>517.000000</td>\n",
              "      <td>517.000000</td>\n",
              "      <td>517.000000</td>\n",
              "    </tr>\n",
              "    <tr>\n",
              "      <th>mean</th>\n",
              "      <td>4.669246</td>\n",
              "      <td>4.299807</td>\n",
              "      <td>90.644681</td>\n",
              "      <td>110.872340</td>\n",
              "      <td>547.940039</td>\n",
              "      <td>9.021663</td>\n",
              "      <td>18.889168</td>\n",
              "      <td>44.288201</td>\n",
              "      <td>4.017602</td>\n",
              "      <td>0.021663</td>\n",
              "      <td>12.847292</td>\n",
              "    </tr>\n",
              "    <tr>\n",
              "      <th>std</th>\n",
              "      <td>2.313778</td>\n",
              "      <td>1.229900</td>\n",
              "      <td>5.520111</td>\n",
              "      <td>64.046482</td>\n",
              "      <td>248.066192</td>\n",
              "      <td>4.559477</td>\n",
              "      <td>5.806625</td>\n",
              "      <td>16.317469</td>\n",
              "      <td>1.791653</td>\n",
              "      <td>0.295959</td>\n",
              "      <td>63.655818</td>\n",
              "    </tr>\n",
              "    <tr>\n",
              "      <th>min</th>\n",
              "      <td>1.000000</td>\n",
              "      <td>2.000000</td>\n",
              "      <td>18.700000</td>\n",
              "      <td>1.100000</td>\n",
              "      <td>7.900000</td>\n",
              "      <td>0.000000</td>\n",
              "      <td>2.200000</td>\n",
              "      <td>15.000000</td>\n",
              "      <td>0.400000</td>\n",
              "      <td>0.000000</td>\n",
              "      <td>0.000000</td>\n",
              "    </tr>\n",
              "    <tr>\n",
              "      <th>25%</th>\n",
              "      <td>3.000000</td>\n",
              "      <td>4.000000</td>\n",
              "      <td>90.200000</td>\n",
              "      <td>68.600000</td>\n",
              "      <td>437.700000</td>\n",
              "      <td>6.500000</td>\n",
              "      <td>15.500000</td>\n",
              "      <td>33.000000</td>\n",
              "      <td>2.700000</td>\n",
              "      <td>0.000000</td>\n",
              "      <td>0.000000</td>\n",
              "    </tr>\n",
              "    <tr>\n",
              "      <th>50%</th>\n",
              "      <td>4.000000</td>\n",
              "      <td>4.000000</td>\n",
              "      <td>91.600000</td>\n",
              "      <td>108.300000</td>\n",
              "      <td>664.200000</td>\n",
              "      <td>8.400000</td>\n",
              "      <td>19.300000</td>\n",
              "      <td>42.000000</td>\n",
              "      <td>4.000000</td>\n",
              "      <td>0.000000</td>\n",
              "      <td>0.520000</td>\n",
              "    </tr>\n",
              "    <tr>\n",
              "      <th>75%</th>\n",
              "      <td>7.000000</td>\n",
              "      <td>5.000000</td>\n",
              "      <td>92.900000</td>\n",
              "      <td>142.400000</td>\n",
              "      <td>713.900000</td>\n",
              "      <td>10.800000</td>\n",
              "      <td>22.800000</td>\n",
              "      <td>53.000000</td>\n",
              "      <td>4.900000</td>\n",
              "      <td>0.000000</td>\n",
              "      <td>6.570000</td>\n",
              "    </tr>\n",
              "    <tr>\n",
              "      <th>max</th>\n",
              "      <td>9.000000</td>\n",
              "      <td>9.000000</td>\n",
              "      <td>96.200000</td>\n",
              "      <td>291.300000</td>\n",
              "      <td>860.600000</td>\n",
              "      <td>56.100000</td>\n",
              "      <td>33.300000</td>\n",
              "      <td>100.000000</td>\n",
              "      <td>9.400000</td>\n",
              "      <td>6.400000</td>\n",
              "      <td>1090.840000</td>\n",
              "    </tr>\n",
              "  </tbody>\n",
              "</table>\n",
              "</div>"
            ],
            "text/plain": [
              "                X           Y        FFMC  ...        wind        rain         area\n",
              "count  517.000000  517.000000  517.000000  ...  517.000000  517.000000   517.000000\n",
              "mean     4.669246    4.299807   90.644681  ...    4.017602    0.021663    12.847292\n",
              "std      2.313778    1.229900    5.520111  ...    1.791653    0.295959    63.655818\n",
              "min      1.000000    2.000000   18.700000  ...    0.400000    0.000000     0.000000\n",
              "25%      3.000000    4.000000   90.200000  ...    2.700000    0.000000     0.000000\n",
              "50%      4.000000    4.000000   91.600000  ...    4.000000    0.000000     0.520000\n",
              "75%      7.000000    5.000000   92.900000  ...    4.900000    0.000000     6.570000\n",
              "max      9.000000    9.000000   96.200000  ...    9.400000    6.400000  1090.840000\n",
              "\n",
              "[8 rows x 11 columns]"
            ]
          },
          "metadata": {
            "tags": []
          },
          "execution_count": 5
        }
      ]
    },
    {
      "cell_type": "markdown",
      "metadata": {
        "id": "l1TveAOIdmYu"
      },
      "source": [
        "# **Análise descritiva**\r\n"
      ]
    },
    {
      "cell_type": "markdown",
      "metadata": {
        "id": "nzKCySGbcjUm"
      },
      "source": [
        "## Funções auxiliares na análise descritiva"
      ]
    },
    {
      "cell_type": "code",
      "metadata": {
        "id": "PO41WkN-dUch"
      },
      "source": [
        "def encaixotamento(column):\n",
        "  bins = pd.cut(df[column], bins=5)\n",
        "  return bins.value_counts()\n",
        "\n",
        "def amplitude(column):\n",
        "  return (df[column].max() - df[column].min()) / 5\n",
        "\n",
        "def ponto_medio(lim_inferior, lim_superior):\n",
        "  list = []\n",
        "  for x in range(5):    \n",
        "    list.append((lim_inferior[x] + lim_superior[x]) / 2)\n",
        "  return list\n",
        "\n",
        "classes = [1,2,3,4,5]\n",
        "\n",
        "def frequencia_relativa(freq_absoluta):\n",
        "  freq = []\n",
        "  for x in range(5):\n",
        "     y = (freq_absoluta[x] / 517) * 100\n",
        "     freq.append(y.round(2))\n",
        "  return freq\n",
        "\n",
        "\n",
        "def create(column, classes, limite_inicial, limite_superior):\n",
        "  resum_temp = pd.DataFrame()\n",
        "  freq_absoluta = encaixotamento(column)\n",
        "  media = ponto_medio(limite_inicial, limite_superior)\n",
        "  resum_temp['CLASSE'] = classes\n",
        "  resum_temp['LIMITE INFERIOR'] = limite_inicial\n",
        "  resum_temp['LIMITE SUPERIOR'] = limite_superior\n",
        "  resum_temp['FREQUENCIA ABSOLUTA'] = [freq_absoluta[0], freq_absoluta[1], freq_absoluta[2], freq_absoluta[3], freq_absoluta[4]]\n",
        "  resum_temp['FREQUENCIA RELATIVA'] = frequencia_relativa(resum_temp['FREQUENCIA ABSOLUTA'])\n",
        "  resum_temp['PONTO MÉDIO'] = media\n",
        "  return resum_temp\n"
      ],
      "execution_count": 6,
      "outputs": []
    },
    {
      "cell_type": "markdown",
      "metadata": {
        "id": "esQZxPW1dZHB"
      },
      "source": [
        "## Análise descritiva do atributos **DMC**"
      ]
    },
    {
      "cell_type": "code",
      "metadata": {
        "colab": {
          "base_uri": "https://localhost:8080/",
          "height": 751
        },
        "id": "1Xe24P7IddWY",
        "outputId": "ae6de71e-e0e9-4544-d7e2-1fced5f985d8"
      },
      "source": [
        "amplitude('DMC')\n",
        "encaixotamento('DMC')\n",
        "resum_dmc = pd.DataFrame()\n",
        "resum_dmc = create('DMC', classes, [0.81, 59.14, 117.18, 175.22, 233.26], [ 59.14, 117.18, 175.22, 233.26, 291.3])\n",
        "\n",
        "plt.bar(resum_dmc['CLASSE'], resum_dmc['FREQUENCIA RELATIVA'], align='center')\n",
        "plt.xlabel('Bins')\n",
        "plt.ylabel('Frequency')\n",
        "plt.title('Histograma da frequência relativa DMC')\n",
        "plt.show()\n",
        "\n",
        "plt.plot(resum_dmc['CLASSE'], resum_dmc['FREQUENCIA RELATIVA'])\n",
        "plt.xlabel('Bins')\n",
        "plt.ylabel('Frequency')\n",
        "plt.title('Gráfico de poligono de frequência relativa DMC')\n",
        "plt.show()\n",
        "\n",
        "\n",
        "resum_dmc"
      ],
      "execution_count": 7,
      "outputs": [
        {
          "output_type": "display_data",
          "data": {
            "image/png": "[encoded data removed]",
            "text/plain": [
              "<Figure size 432x288 with 1 Axes>"
            ]
          },
          "metadata": {
            "tags": [],
            "needs_background": "light"
          }
        },
        {
          "output_type": "display_data",
          "data": {
            "image/png": "[encoded data removed]",
            "text/plain": [
              "<Figure size 432x288 with 1 Axes>"
            ]
          },
          "metadata": {
            "tags": [],
            "needs_background": "light"
          }
        },
        {
          "output_type": "execute_result",
          "data": {
            "text/html": [
              "<div>\n",
              "<style scoped>\n",
              "    .dataframe tbody tr th:only-of-type {\n",
              "        vertical-align: middle;\n",
              "    }\n",
              "\n",
              "    .dataframe tbody tr th {\n",
              "        vertical-align: top;\n",
              "    }\n",
              "\n",
              "    .dataframe thead th {\n",
              "        text-align: right;\n",
              "    }\n",
              "</style>\n",
              "<table border=\"1\" class=\"dataframe\">\n",
              "  <thead>\n",
              "    <tr style=\"text-align: right;\">\n",
              "      <th></th>\n",
              "      <th>CLASSE</th>\n",
              "      <th>LIMITE INFERIOR</th>\n",
              "      <th>LIMITE SUPERIOR</th>\n",
              "      <th>FREQUENCIA ABSOLUTA</th>\n",
              "      <th>FREQUENCIA RELATIVA</th>\n",
              "      <th>PONTO MÉDIO</th>\n",
              "    </tr>\n",
              "  </thead>\n",
              "  <tbody>\n",
              "    <tr>\n",
              "      <th>0</th>\n",
              "      <td>1</td>\n",
              "      <td>0.81</td>\n",
              "      <td>59.14</td>\n",
              "      <td>163</td>\n",
              "      <td>31.53</td>\n",
              "      <td>29.975</td>\n",
              "    </tr>\n",
              "    <tr>\n",
              "      <th>1</th>\n",
              "      <td>2</td>\n",
              "      <td>59.14</td>\n",
              "      <td>117.18</td>\n",
              "      <td>155</td>\n",
              "      <td>29.98</td>\n",
              "      <td>88.160</td>\n",
              "    </tr>\n",
              "    <tr>\n",
              "      <th>2</th>\n",
              "      <td>3</td>\n",
              "      <td>117.18</td>\n",
              "      <td>175.22</td>\n",
              "      <td>126</td>\n",
              "      <td>24.37</td>\n",
              "      <td>146.200</td>\n",
              "    </tr>\n",
              "    <tr>\n",
              "      <th>3</th>\n",
              "      <td>4</td>\n",
              "      <td>175.22</td>\n",
              "      <td>233.26</td>\n",
              "      <td>48</td>\n",
              "      <td>9.28</td>\n",
              "      <td>204.240</td>\n",
              "    </tr>\n",
              "    <tr>\n",
              "      <th>4</th>\n",
              "      <td>5</td>\n",
              "      <td>233.26</td>\n",
              "      <td>291.30</td>\n",
              "      <td>25</td>\n",
              "      <td>4.84</td>\n",
              "      <td>262.280</td>\n",
              "    </tr>\n",
              "  </tbody>\n",
              "</table>\n",
              "</div>"
            ],
            "text/plain": [
              "   CLASSE  LIMITE INFERIOR  ...  FREQUENCIA RELATIVA  PONTO MÉDIO\n",
              "0       1             0.81  ...                31.53       29.975\n",
              "1       2            59.14  ...                29.98       88.160\n",
              "2       3           117.18  ...                24.37      146.200\n",
              "3       4           175.22  ...                 9.28      204.240\n",
              "4       5           233.26  ...                 4.84      262.280\n",
              "\n",
              "[5 rows x 6 columns]"
            ]
          },
          "metadata": {
            "tags": []
          },
          "execution_count": 7
        }
      ]
    },
    {
      "cell_type": "markdown",
      "metadata": {
        "id": "yEMThRzQdwdP"
      },
      "source": [
        "## Análise descritiva do atributos **TEMP**"
      ]
    },
    {
      "cell_type": "code",
      "metadata": {
        "colab": {
          "base_uri": "https://localhost:8080/",
          "height": 751
        },
        "id": "eeAPBbWwdVaF",
        "outputId": "b4001159-14c0-4d5d-bb2d-c0f673678342"
      },
      "source": [
        "amplitude('temp')\n",
        "encaixotamento('temp')\n",
        "resum_temp = pd.DataFrame()\n",
        "resum_temp = create('temp', classes, [2.169, 8.42, 14.64, 20.86, 27.08], [8.42, 14.64, 20.86, 27.08, 33.3])\n",
        "\n",
        "plt.bar(resum_temp['CLASSE'], resum_temp['FREQUENCIA RELATIVA'], align='center')\n",
        "plt.xlabel('Bins')\n",
        "plt.ylabel('Frequency')\n",
        "plt.title('Histograma da frequência relativa Temp')\n",
        "plt.show()\n",
        "\n",
        "plt.plot(resum_temp['CLASSE'], resum_temp['FREQUENCIA RELATIVA'])\n",
        "plt.xlabel('Bins')\n",
        "plt.ylabel('Frequency')\n",
        "plt.title('Gráfico de poligono de frequência relativa Temp')\n",
        "plt.show()\n",
        "\n",
        "resum_temp\n"
      ],
      "execution_count": 8,
      "outputs": [
        {
          "output_type": "display_data",
          "data": {
            "image/png": "[encoded data removed]",
            "text/plain": [
              "<Figure size 432x288 with 1 Axes>"
            ]
          },
          "metadata": {
            "tags": [],
            "needs_background": "light"
          }
        },
        {
          "output_type": "display_data",
          "data": {
            "image/png": "[encoded data removed]",
            "text/plain": [
              "<Figure size 432x288 with 1 Axes>"
            ]
          },
          "metadata": {
            "tags": [],
            "needs_background": "light"
          }
        },
        {
          "output_type": "execute_result",
          "data": {
            "text/html": [
              "<div>\n",
              "<style scoped>\n",
              "    .dataframe tbody tr th:only-of-type {\n",
              "        vertical-align: middle;\n",
              "    }\n",
              "\n",
              "    .dataframe tbody tr th {\n",
              "        vertical-align: top;\n",
              "    }\n",
              "\n",
              "    .dataframe thead th {\n",
              "        text-align: right;\n",
              "    }\n",
              "</style>\n",
              "<table border=\"1\" class=\"dataframe\">\n",
              "  <thead>\n",
              "    <tr style=\"text-align: right;\">\n",
              "      <th></th>\n",
              "      <th>CLASSE</th>\n",
              "      <th>LIMITE INFERIOR</th>\n",
              "      <th>LIMITE SUPERIOR</th>\n",
              "      <th>FREQUENCIA ABSOLUTA</th>\n",
              "      <th>FREQUENCIA RELATIVA</th>\n",
              "      <th>PONTO MÉDIO</th>\n",
              "    </tr>\n",
              "  </thead>\n",
              "  <tbody>\n",
              "    <tr>\n",
              "      <th>0</th>\n",
              "      <td>1</td>\n",
              "      <td>2.169</td>\n",
              "      <td>8.42</td>\n",
              "      <td>219</td>\n",
              "      <td>42.36</td>\n",
              "      <td>5.2945</td>\n",
              "    </tr>\n",
              "    <tr>\n",
              "      <th>1</th>\n",
              "      <td>2</td>\n",
              "      <td>8.420</td>\n",
              "      <td>14.64</td>\n",
              "      <td>154</td>\n",
              "      <td>29.79</td>\n",
              "      <td>11.5300</td>\n",
              "    </tr>\n",
              "    <tr>\n",
              "      <th>2</th>\n",
              "      <td>3</td>\n",
              "      <td>14.640</td>\n",
              "      <td>20.86</td>\n",
              "      <td>78</td>\n",
              "      <td>15.09</td>\n",
              "      <td>17.7500</td>\n",
              "    </tr>\n",
              "    <tr>\n",
              "      <th>3</th>\n",
              "      <td>4</td>\n",
              "      <td>20.860</td>\n",
              "      <td>27.08</td>\n",
              "      <td>37</td>\n",
              "      <td>7.16</td>\n",
              "      <td>23.9700</td>\n",
              "    </tr>\n",
              "    <tr>\n",
              "      <th>4</th>\n",
              "      <td>5</td>\n",
              "      <td>27.080</td>\n",
              "      <td>33.30</td>\n",
              "      <td>29</td>\n",
              "      <td>5.61</td>\n",
              "      <td>30.1900</td>\n",
              "    </tr>\n",
              "  </tbody>\n",
              "</table>\n",
              "</div>"
            ],
            "text/plain": [
              "   CLASSE  LIMITE INFERIOR  ...  FREQUENCIA RELATIVA  PONTO MÉDIO\n",
              "0       1            2.169  ...                42.36       5.2945\n",
              "1       2            8.420  ...                29.79      11.5300\n",
              "2       3           14.640  ...                15.09      17.7500\n",
              "3       4           20.860  ...                 7.16      23.9700\n",
              "4       5           27.080  ...                 5.61      30.1900\n",
              "\n",
              "[5 rows x 6 columns]"
            ]
          },
          "metadata": {
            "tags": []
          },
          "execution_count": 8
        }
      ]
    },
    {
      "cell_type": "markdown",
      "metadata": {
        "id": "SzbSI5hmd0WL"
      },
      "source": [
        "## Análise descritiva do atributos **Y**"
      ]
    },
    {
      "cell_type": "code",
      "metadata": {
        "colab": {
          "base_uri": "https://localhost:8080/",
          "height": 751
        },
        "id": "MiLCBMABdZfH",
        "outputId": "cfe5a6b0-0a5a-419f-a84c-364713eab93e"
      },
      "source": [
        "amplitude('Y')\n",
        "encaixotamento('Y')\n",
        "resum_y = pd.DataFrame()\n",
        "resum_y = create('Y', classes, [1.993, 3.4, 4.8, 6.2, 7.6], [3.4, 4.8, 6.2, 7.6, 9.0])\n",
        "\n",
        "plt.bar(resum_y['CLASSE'], resum_y['FREQUENCIA RELATIVA'], align='center')\n",
        "plt.xlabel('Bins')\n",
        "plt.ylabel('Frequency')\n",
        "plt.title('Histograma da frequência relativa Y')\n",
        "plt.show()\n",
        "\n",
        "plt.plot(resum_y['CLASSE'], resum_y['FREQUENCIA RELATIVA'])\n",
        "plt.xlabel('Bins')\n",
        "plt.ylabel('Frequency')\n",
        "plt.title('Gráfico de poligono de frequência relativa Y')\n",
        "plt.show()\n",
        "\n",
        "resum_y\n"
      ],
      "execution_count": 10,
      "outputs": [
        {
          "output_type": "display_data",
          "data": {
            "image/png": "[encoded data removed]",
            "text/plain": [
              "<Figure size 432x288 with 1 Axes>"
            ]
          },
          "metadata": {
            "tags": [],
            "needs_background": "light"
          }
        },
        {
          "output_type": "display_data",
          "data": {
            "image/png": "[encoded data removed]",
            "text/plain": [
              "<Figure size 432x288 with 1 Axes>"
            ]
          },
          "metadata": {
            "tags": [],
            "needs_background": "light"
          }
        },
        {
          "output_type": "execute_result",
          "data": {
            "text/html": [
              "<div>\n",
              "<style scoped>\n",
              "    .dataframe tbody tr th:only-of-type {\n",
              "        vertical-align: middle;\n",
              "    }\n",
              "\n",
              "    .dataframe tbody tr th {\n",
              "        vertical-align: top;\n",
              "    }\n",
              "\n",
              "    .dataframe thead th {\n",
              "        text-align: right;\n",
              "    }\n",
              "</style>\n",
              "<table border=\"1\" class=\"dataframe\">\n",
              "  <thead>\n",
              "    <tr style=\"text-align: right;\">\n",
              "      <th></th>\n",
              "      <th>CLASSE</th>\n",
              "      <th>LIMITE INFERIOR</th>\n",
              "      <th>LIMITE SUPERIOR</th>\n",
              "      <th>FREQUENCIA ABSOLUTA</th>\n",
              "      <th>FREQUENCIA RELATIVA</th>\n",
              "      <th>PONTO MÉDIO</th>\n",
              "    </tr>\n",
              "  </thead>\n",
              "  <tbody>\n",
              "    <tr>\n",
              "      <th>0</th>\n",
              "      <td>1</td>\n",
              "      <td>1.993</td>\n",
              "      <td>3.4</td>\n",
              "      <td>203</td>\n",
              "      <td>39.26</td>\n",
              "      <td>2.6965</td>\n",
              "    </tr>\n",
              "    <tr>\n",
              "      <th>1</th>\n",
              "      <td>2</td>\n",
              "      <td>3.400</td>\n",
              "      <td>4.8</td>\n",
              "      <td>199</td>\n",
              "      <td>38.49</td>\n",
              "      <td>4.1000</td>\n",
              "    </tr>\n",
              "    <tr>\n",
              "      <th>2</th>\n",
              "      <td>3</td>\n",
              "      <td>4.800</td>\n",
              "      <td>6.2</td>\n",
              "      <td>108</td>\n",
              "      <td>20.89</td>\n",
              "      <td>5.5000</td>\n",
              "    </tr>\n",
              "    <tr>\n",
              "      <th>3</th>\n",
              "      <td>4</td>\n",
              "      <td>6.200</td>\n",
              "      <td>7.6</td>\n",
              "      <td>7</td>\n",
              "      <td>1.35</td>\n",
              "      <td>6.9000</td>\n",
              "    </tr>\n",
              "    <tr>\n",
              "      <th>4</th>\n",
              "      <td>5</td>\n",
              "      <td>7.600</td>\n",
              "      <td>9.0</td>\n",
              "      <td>0</td>\n",
              "      <td>0.00</td>\n",
              "      <td>8.3000</td>\n",
              "    </tr>\n",
              "  </tbody>\n",
              "</table>\n",
              "</div>"
            ],
            "text/plain": [
              "   CLASSE  LIMITE INFERIOR  ...  FREQUENCIA RELATIVA  PONTO MÉDIO\n",
              "0       1            1.993  ...                39.26       2.6965\n",
              "1       2            3.400  ...                38.49       4.1000\n",
              "2       3            4.800  ...                20.89       5.5000\n",
              "3       4            6.200  ...                 1.35       6.9000\n",
              "4       5            7.600  ...                 0.00       8.3000\n",
              "\n",
              "[5 rows x 6 columns]"
            ]
          },
          "metadata": {
            "tags": []
          },
          "execution_count": 10
        }
      ]
    },
    {
      "cell_type": "markdown",
      "metadata": {
        "id": "MtgAenzyd3l0"
      },
      "source": [
        "## Análise descritiva do atributos **X**"
      ]
    },
    {
      "cell_type": "code",
      "metadata": {
        "colab": {
          "base_uri": "https://localhost:8080/",
          "height": 751
        },
        "id": "Lff9PU5bdcY8",
        "outputId": "8e6536b5-a40f-41a7-d10f-ad1cfd0a333f"
      },
      "source": [
        "amplitude('X')\n",
        "encaixotamento('X')\n",
        "resum_x = pd.DataFrame()\n",
        "resum_x = create('X', classes,  [0.992, 2.6, 4.2, 5.8, 7.4], [2.6, 4.2, 5.8, 7.4, 9.0])\n",
        "\n",
        "plt.bar(resum_x['CLASSE'], resum_x['FREQUENCIA RELATIVA'], align='center')\n",
        "plt.xlabel('Bins')\n",
        "plt.ylabel('Frequency')\n",
        "plt.title('Histograma da frequência relativa X')\n",
        "plt.show()\n",
        "\n",
        "plt.plot(resum_x['CLASSE'], resum_x['FREQUENCIA RELATIVA'])\n",
        "plt.xlabel('Bins')\n",
        "plt.ylabel('Frequency')\n",
        "plt.title('Gráfico de poligono de frequência relativa X')\n",
        "plt.show()\n",
        "\n",
        "resum_x"
      ],
      "execution_count": 11,
      "outputs": [
        {
          "output_type": "display_data",
          "data": {
            "image/png": "[encoded data removed]",
            "text/plain": [
              "<Figure size 432x288 with 1 Axes>"
            ]
          },
          "metadata": {
            "tags": [],
            "needs_background": "light"
          }
        },
        {
          "output_type": "display_data",
          "data": {
            "image/png": "[encoded data removed]",
            "text/plain": [
              "<Figure size 432x288 with 1 Axes>"
            ]
          },
          "metadata": {
            "tags": [],
            "needs_background": "light"
          }
        },
        {
          "output_type": "execute_result",
          "data": {
            "text/html": [
              "<div>\n",
              "<style scoped>\n",
              "    .dataframe tbody tr th:only-of-type {\n",
              "        vertical-align: middle;\n",
              "    }\n",
              "\n",
              "    .dataframe tbody tr th {\n",
              "        vertical-align: top;\n",
              "    }\n",
              "\n",
              "    .dataframe thead th {\n",
              "        text-align: right;\n",
              "    }\n",
              "</style>\n",
              "<table border=\"1\" class=\"dataframe\">\n",
              "  <thead>\n",
              "    <tr style=\"text-align: right;\">\n",
              "      <th></th>\n",
              "      <th>CLASSE</th>\n",
              "      <th>LIMITE INFERIOR</th>\n",
              "      <th>LIMITE SUPERIOR</th>\n",
              "      <th>FREQUENCIA ABSOLUTA</th>\n",
              "      <th>FREQUENCIA RELATIVA</th>\n",
              "      <th>PONTO MÉDIO</th>\n",
              "    </tr>\n",
              "  </thead>\n",
              "  <tbody>\n",
              "    <tr>\n",
              "      <th>0</th>\n",
              "      <td>1</td>\n",
              "      <td>0.992</td>\n",
              "      <td>2.6</td>\n",
              "      <td>146</td>\n",
              "      <td>28.24</td>\n",
              "      <td>1.796</td>\n",
              "    </tr>\n",
              "    <tr>\n",
              "      <th>1</th>\n",
              "      <td>2</td>\n",
              "      <td>2.600</td>\n",
              "      <td>4.2</td>\n",
              "      <td>146</td>\n",
              "      <td>28.24</td>\n",
              "      <td>3.400</td>\n",
              "    </tr>\n",
              "    <tr>\n",
              "      <th>2</th>\n",
              "      <td>3</td>\n",
              "      <td>4.200</td>\n",
              "      <td>5.8</td>\n",
              "      <td>121</td>\n",
              "      <td>23.40</td>\n",
              "      <td>5.000</td>\n",
              "    </tr>\n",
              "    <tr>\n",
              "      <th>3</th>\n",
              "      <td>4</td>\n",
              "      <td>5.800</td>\n",
              "      <td>7.4</td>\n",
              "      <td>74</td>\n",
              "      <td>14.31</td>\n",
              "      <td>6.600</td>\n",
              "    </tr>\n",
              "    <tr>\n",
              "      <th>4</th>\n",
              "      <td>5</td>\n",
              "      <td>7.400</td>\n",
              "      <td>9.0</td>\n",
              "      <td>30</td>\n",
              "      <td>5.80</td>\n",
              "      <td>8.200</td>\n",
              "    </tr>\n",
              "  </tbody>\n",
              "</table>\n",
              "</div>"
            ],
            "text/plain": [
              "   CLASSE  LIMITE INFERIOR  ...  FREQUENCIA RELATIVA  PONTO MÉDIO\n",
              "0       1            0.992  ...                28.24        1.796\n",
              "1       2            2.600  ...                28.24        3.400\n",
              "2       3            4.200  ...                23.40        5.000\n",
              "3       4            5.800  ...                14.31        6.600\n",
              "4       5            7.400  ...                 5.80        8.200\n",
              "\n",
              "[5 rows x 6 columns]"
            ]
          },
          "metadata": {
            "tags": []
          },
          "execution_count": 11
        }
      ]
    },
    {
      "cell_type": "markdown",
      "metadata": {
        "id": "O_NcqLhnd65P"
      },
      "source": [
        "## Análise descritiva do atributos **RH**"
      ]
    },
    {
      "cell_type": "code",
      "metadata": {
        "colab": {
          "base_uri": "https://localhost:8080/",
          "height": 751
        },
        "id": "z7TRKQ04deQC",
        "outputId": "2e4a23e2-6004-4e68-f0c8-b5723e28682c"
      },
      "source": [
        "amplitude('RH')\n",
        "encaixotamento('RH')\n",
        "resum_rh = pd.DataFrame()\n",
        "resum_rh = create('RH', classes, [14.915, 32.0, 49.0, 66.0, 83.0], [ 32.0, 49.0, 66.0, 83.0, 100.0])\n",
        "\n",
        "plt.bar(resum_rh['CLASSE'], resum_rh['FREQUENCIA RELATIVA'], align='center')\n",
        "plt.xlabel('Bins')\n",
        "plt.ylabel('Frequency')\n",
        "plt.title('Histograma da frequência relativa RH')\n",
        "plt.show()\n",
        "\n",
        "plt.plot(resum_rh['CLASSE'], resum_rh['FREQUENCIA RELATIVA'])\n",
        "plt.xlabel('Bins')\n",
        "plt.ylabel('Frequency')\n",
        "plt.title('Gráfico de poligono de frequência relativa RH')\n",
        "plt.show()\n",
        "\n",
        "resum_rh"
      ],
      "execution_count": 12,
      "outputs": [
        {
          "output_type": "display_data",
          "data": {
            "image/png": "[encoded data removed]",
            "text/plain": [
              "<Figure size 432x288 with 1 Axes>"
            ]
          },
          "metadata": {
            "tags": [],
            "needs_background": "light"
          }
        },
        {
          "output_type": "display_data",
          "data": {
            "image/png": "[encoded data removed]",
            "text/plain": [
              "<Figure size 432x288 with 1 Axes>"
            ]
          },
          "metadata": {
            "tags": [],
            "needs_background": "light"
          }
        },
        {
          "output_type": "execute_result",
          "data": {
            "text/html": [
              "<div>\n",
              "<style scoped>\n",
              "    .dataframe tbody tr th:only-of-type {\n",
              "        vertical-align: middle;\n",
              "    }\n",
              "\n",
              "    .dataframe tbody tr th {\n",
              "        vertical-align: top;\n",
              "    }\n",
              "\n",
              "    .dataframe thead th {\n",
              "        text-align: right;\n",
              "    }\n",
              "</style>\n",
              "<table border=\"1\" class=\"dataframe\">\n",
              "  <thead>\n",
              "    <tr style=\"text-align: right;\">\n",
              "      <th></th>\n",
              "      <th>CLASSE</th>\n",
              "      <th>LIMITE INFERIOR</th>\n",
              "      <th>LIMITE SUPERIOR</th>\n",
              "      <th>FREQUENCIA ABSOLUTA</th>\n",
              "      <th>FREQUENCIA RELATIVA</th>\n",
              "      <th>PONTO MÉDIO</th>\n",
              "    </tr>\n",
              "  </thead>\n",
              "  <tbody>\n",
              "    <tr>\n",
              "      <th>0</th>\n",
              "      <td>1</td>\n",
              "      <td>14.915</td>\n",
              "      <td>32.0</td>\n",
              "      <td>226</td>\n",
              "      <td>43.71</td>\n",
              "      <td>23.4575</td>\n",
              "    </tr>\n",
              "    <tr>\n",
              "      <th>1</th>\n",
              "      <td>2</td>\n",
              "      <td>32.000</td>\n",
              "      <td>49.0</td>\n",
              "      <td>129</td>\n",
              "      <td>24.95</td>\n",
              "      <td>40.5000</td>\n",
              "    </tr>\n",
              "    <tr>\n",
              "      <th>2</th>\n",
              "      <td>3</td>\n",
              "      <td>49.000</td>\n",
              "      <td>66.0</td>\n",
              "      <td>106</td>\n",
              "      <td>20.50</td>\n",
              "      <td>57.5000</td>\n",
              "    </tr>\n",
              "    <tr>\n",
              "      <th>3</th>\n",
              "      <td>4</td>\n",
              "      <td>66.000</td>\n",
              "      <td>83.0</td>\n",
              "      <td>44</td>\n",
              "      <td>8.51</td>\n",
              "      <td>74.5000</td>\n",
              "    </tr>\n",
              "    <tr>\n",
              "      <th>4</th>\n",
              "      <td>5</td>\n",
              "      <td>83.000</td>\n",
              "      <td>100.0</td>\n",
              "      <td>12</td>\n",
              "      <td>2.32</td>\n",
              "      <td>91.5000</td>\n",
              "    </tr>\n",
              "  </tbody>\n",
              "</table>\n",
              "</div>"
            ],
            "text/plain": [
              "   CLASSE  LIMITE INFERIOR  ...  FREQUENCIA RELATIVA  PONTO MÉDIO\n",
              "0       1           14.915  ...                43.71      23.4575\n",
              "1       2           32.000  ...                24.95      40.5000\n",
              "2       3           49.000  ...                20.50      57.5000\n",
              "3       4           66.000  ...                 8.51      74.5000\n",
              "4       5           83.000  ...                 2.32      91.5000\n",
              "\n",
              "[5 rows x 6 columns]"
            ]
          },
          "metadata": {
            "tags": []
          },
          "execution_count": 12
        }
      ]
    },
    {
      "cell_type": "markdown",
      "metadata": {
        "id": "SZ83FzKNeFSU"
      },
      "source": [
        "## Análises associativas"
      ]
    },
    {
      "cell_type": "code",
      "metadata": {
        "colab": {
          "base_uri": "https://localhost:8080/",
          "height": 315
        },
        "id": "v5paVd_O2zO5",
        "outputId": "ad3db939-93d5-481b-c909-6c651ff75702"
      },
      "source": [
        "x = df.groupby(\"month\").mean()\n",
        "\n",
        "plt.pie(x['DMC'], autopct='%1.1f%%', labels=df[\"month\"].unique())\n",
        "plt.xlabel('month')\n",
        "plt.title('Gráfico de frequência absoluta do atibutos DMC pelo atributo month')\n",
        "plt.show()\n",
        "print('OBS: A partir da análise, notamos que podemos usar a técnica do encaixotamento por bimestres para ficar mais facil de análisar a frequencia do atributo DMC')\n"
      ],
      "execution_count": 15,
      "outputs": [
        {
          "output_type": "display_data",
          "data": {
            "image/png": "[encoded data removed]",
            "text/plain": [
              "<Figure size 432x288 with 1 Axes>"
            ]
          },
          "metadata": {
            "tags": []
          }
        },
        {
          "output_type": "stream",
          "text": [
            "OBS: A partir da análise, notamos que podemos usar a técnica do encaixotamento por bimestres para ficar mais facil de análisar a frequencia do atributo DMC\n"
          ],
          "name": "stdout"
        }
      ]
    },
    {
      "cell_type": "code",
      "metadata": {
        "colab": {
          "base_uri": "https://localhost:8080/",
          "height": 295
        },
        "id": "rCJ42q8yeV-R",
        "outputId": "23f2444d-abca-4f6e-c130-9e8954870a90"
      },
      "source": [
        "plt.scatter(df['day'], df['RH'])\r\n",
        "plt.xlabel('day')\r\n",
        "plt.ylabel('RH')\r\n",
        "plt.title('Gráfico de dispersão ente os atributos day e RH')\r\n",
        "plt.show()"
      ],
      "execution_count": null,
      "outputs": [
        {
          "output_type": "display_data",
          "data": {
            "image/png": "[encoded data removed]",
            "text/plain": [
              "<Figure size 432x288 with 1 Axes>"
            ]
          },
          "metadata": {
            "tags": [],
            "needs_background": "light"
          }
        }
      ]
    },
    {
      "cell_type": "markdown",
      "metadata": {
        "id": "9jTqyilrebOV"
      },
      "source": [
        "## Medidas de Resumo"
      ]
    },
    {
      "cell_type": "code",
      "metadata": {
        "colab": {
          "base_uri": "https://localhost:8080/",
          "height": 284
        },
        "id": "Mze8Zz-U7iIh",
        "outputId": "e8242339-d6a8-4d91-9280-a80cb9f28ff9"
      },
      "source": [
        "resumo_medidas = df.describe()\n",
        "resumo_medidas\n"
      ],
      "execution_count": null,
      "outputs": [
        {
          "output_type": "execute_result",
          "data": {
            "text/html": [
              "<div>\n",
              "<style scoped>\n",
              "    .dataframe tbody tr th:only-of-type {\n",
              "        vertical-align: middle;\n",
              "    }\n",
              "\n",
              "    .dataframe tbody tr th {\n",
              "        vertical-align: top;\n",
              "    }\n",
              "\n",
              "    .dataframe thead th {\n",
              "        text-align: right;\n",
              "    }\n",
              "</style>\n",
              "<table border=\"1\" class=\"dataframe\">\n",
              "  <thead>\n",
              "    <tr style=\"text-align: right;\">\n",
              "      <th></th>\n",
              "      <th>X</th>\n",
              "      <th>Y</th>\n",
              "      <th>FFMC</th>\n",
              "      <th>DMC</th>\n",
              "      <th>DC</th>\n",
              "      <th>ISI</th>\n",
              "      <th>temp</th>\n",
              "      <th>RH</th>\n",
              "      <th>wind</th>\n",
              "      <th>rain</th>\n",
              "      <th>area</th>\n",
              "    </tr>\n",
              "  </thead>\n",
              "  <tbody>\n",
              "    <tr>\n",
              "      <th>count</th>\n",
              "      <td>517.000000</td>\n",
              "      <td>517.000000</td>\n",
              "      <td>517.000000</td>\n",
              "      <td>517.000000</td>\n",
              "      <td>517.000000</td>\n",
              "      <td>517.000000</td>\n",
              "      <td>517.000000</td>\n",
              "      <td>517.000000</td>\n",
              "      <td>517.000000</td>\n",
              "      <td>517.000000</td>\n",
              "      <td>517.000000</td>\n",
              "    </tr>\n",
              "    <tr>\n",
              "      <th>mean</th>\n",
              "      <td>4.669246</td>\n",
              "      <td>4.299807</td>\n",
              "      <td>90.644681</td>\n",
              "      <td>110.872340</td>\n",
              "      <td>547.940039</td>\n",
              "      <td>9.021663</td>\n",
              "      <td>18.889168</td>\n",
              "      <td>44.288201</td>\n",
              "      <td>4.017602</td>\n",
              "      <td>0.021663</td>\n",
              "      <td>12.847292</td>\n",
              "    </tr>\n",
              "    <tr>\n",
              "      <th>std</th>\n",
              "      <td>2.313778</td>\n",
              "      <td>1.229900</td>\n",
              "      <td>5.520111</td>\n",
              "      <td>64.046482</td>\n",
              "      <td>248.066192</td>\n",
              "      <td>4.559477</td>\n",
              "      <td>5.806625</td>\n",
              "      <td>16.317469</td>\n",
              "      <td>1.791653</td>\n",
              "      <td>0.295959</td>\n",
              "      <td>63.655818</td>\n",
              "    </tr>\n",
              "    <tr>\n",
              "      <th>min</th>\n",
              "      <td>1.000000</td>\n",
              "      <td>2.000000</td>\n",
              "      <td>18.700000</td>\n",
              "      <td>1.100000</td>\n",
              "      <td>7.900000</td>\n",
              "      <td>0.000000</td>\n",
              "      <td>2.200000</td>\n",
              "      <td>15.000000</td>\n",
              "      <td>0.400000</td>\n",
              "      <td>0.000000</td>\n",
              "      <td>0.000000</td>\n",
              "    </tr>\n",
              "    <tr>\n",
              "      <th>25%</th>\n",
              "      <td>3.000000</td>\n",
              "      <td>4.000000</td>\n",
              "      <td>90.200000</td>\n",
              "      <td>68.600000</td>\n",
              "      <td>437.700000</td>\n",
              "      <td>6.500000</td>\n",
              "      <td>15.500000</td>\n",
              "      <td>33.000000</td>\n",
              "      <td>2.700000</td>\n",
              "      <td>0.000000</td>\n",
              "      <td>0.000000</td>\n",
              "    </tr>\n",
              "    <tr>\n",
              "      <th>50%</th>\n",
              "      <td>4.000000</td>\n",
              "      <td>4.000000</td>\n",
              "      <td>91.600000</td>\n",
              "      <td>108.300000</td>\n",
              "      <td>664.200000</td>\n",
              "      <td>8.400000</td>\n",
              "      <td>19.300000</td>\n",
              "      <td>42.000000</td>\n",
              "      <td>4.000000</td>\n",
              "      <td>0.000000</td>\n",
              "      <td>0.520000</td>\n",
              "    </tr>\n",
              "    <tr>\n",
              "      <th>75%</th>\n",
              "      <td>7.000000</td>\n",
              "      <td>5.000000</td>\n",
              "      <td>92.900000</td>\n",
              "      <td>142.400000</td>\n",
              "      <td>713.900000</td>\n",
              "      <td>10.800000</td>\n",
              "      <td>22.800000</td>\n",
              "      <td>53.000000</td>\n",
              "      <td>4.900000</td>\n",
              "      <td>0.000000</td>\n",
              "      <td>6.570000</td>\n",
              "    </tr>\n",
              "    <tr>\n",
              "      <th>max</th>\n",
              "      <td>9.000000</td>\n",
              "      <td>9.000000</td>\n",
              "      <td>96.200000</td>\n",
              "      <td>291.300000</td>\n",
              "      <td>860.600000</td>\n",
              "      <td>56.100000</td>\n",
              "      <td>33.300000</td>\n",
              "      <td>100.000000</td>\n",
              "      <td>9.400000</td>\n",
              "      <td>6.400000</td>\n",
              "      <td>1090.840000</td>\n",
              "    </tr>\n",
              "  </tbody>\n",
              "</table>\n",
              "</div>"
            ],
            "text/plain": [
              "                X           Y        FFMC  ...        wind        rain         area\n",
              "count  517.000000  517.000000  517.000000  ...  517.000000  517.000000   517.000000\n",
              "mean     4.669246    4.299807   90.644681  ...    4.017602    0.021663    12.847292\n",
              "std      2.313778    1.229900    5.520111  ...    1.791653    0.295959    63.655818\n",
              "min      1.000000    2.000000   18.700000  ...    0.400000    0.000000     0.000000\n",
              "25%      3.000000    4.000000   90.200000  ...    2.700000    0.000000     0.000000\n",
              "50%      4.000000    4.000000   91.600000  ...    4.000000    0.000000     0.520000\n",
              "75%      7.000000    5.000000   92.900000  ...    4.900000    0.000000     6.570000\n",
              "max      9.000000    9.000000   96.200000  ...    9.400000    6.400000  1090.840000\n",
              "\n",
              "[8 rows x 11 columns]"
            ]
          },
          "metadata": {
            "tags": []
          },
          "execution_count": 19
        }
      ]
    },
    {
      "cell_type": "markdown",
      "metadata": {
        "id": "_gLrN4h_epKx"
      },
      "source": [
        "## Análise através do grafico bloxpot"
      ]
    },
    {
      "cell_type": "code",
      "metadata": {
        "colab": {
          "base_uri": "https://localhost:8080/",
          "height": 461
        },
        "id": "gN_cntxk7rSG",
        "outputId": "9af89d28-6cc6-4d18-b94b-9f07e0328b20"
      },
      "source": [
        "q1 = resumo_medidas['X']['25%']\n",
        "mediana = resumo_medidas['X']['50%']\n",
        "q2 = resumo_medidas['X']['75%']\n",
        "\n",
        "s_q1 = \"{0:.2f}\".format(q1)\n",
        "s_mediana = \"{0:.2f}\".format(mediana)\n",
        "s_q2 = \"{0:.2f}\".format(q2)\n",
        "\n",
        "font_1 = {'family': 'serif', 'color': 'darkred', 'size':'14'}\n",
        "\n",
        "plt.figure(figsize=(6, 7))\n",
        "plt.boxplot(df['X'])\n",
        "plt.title('Boxplot do atributo X')\n",
        "plt.ylabel('Altura')\n",
        "plt.text(1, q1, s_q1, fontdict=font_1)\n",
        "plt.text(1, mediana, s_mediana, fontdict=font_1)\n",
        "plt.text(1, q2, s_q2, fontdict=font_1)\n"
      ],
      "execution_count": null,
      "outputs": [
        {
          "output_type": "execute_result",
          "data": {
            "text/plain": [
              "Text(1, 7.0, '7.00')"
            ]
          },
          "metadata": {
            "tags": []
          },
          "execution_count": 21
        },
        {
          "output_type": "display_data",
          "data": {
            "image/png": "[encoded data removed]",
            "text/plain": [
              "<Figure size 432x504 with 1 Axes>"
            ]
          },
          "metadata": {
            "tags": [],
            "needs_background": "light"
          }
        }
      ]
    }
  ]
}
